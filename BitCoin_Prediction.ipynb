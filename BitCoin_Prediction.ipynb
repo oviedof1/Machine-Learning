{
  "nbformat": 4,
  "nbformat_minor": 0,
  "metadata": {
    "colab": {
      "name": "BitCoin_Prediction.ipynb",
      "provenance": [],
      "authorship_tag": "ABX9TyP1JPajLQgvyDxVg1xRw972",
      "include_colab_link": true
    },
    "kernelspec": {
      "name": "python3",
      "display_name": "Python 3"
    }
  },
  "cells": [
    {
      "cell_type": "markdown",
      "metadata": {
        "id": "view-in-github",
        "colab_type": "text"
      },
      "source": [
        "<a href=\"https://colab.research.google.com/github/oviedof1/Machine-Learning/blob/master/BitCoin_Prediction.ipynb\" target=\"_parent\"><img src=\"https://colab.research.google.com/assets/colab-badge.svg\" alt=\"Open In Colab\"/></a>"
      ]
    },
    {
      "cell_type": "code",
      "metadata": {
        "id": "jMXYoCf6h3T1",
        "colab_type": "code",
        "colab": {}
      },
      "source": [
        "#Description: Predict price of bitcoin for the next 30 days"
      ],
      "execution_count": 0,
      "outputs": []
    },
    {
      "cell_type": "code",
      "metadata": {
        "id": "pHlvhbtwrecv",
        "colab_type": "code",
        "colab": {}
      },
      "source": [
        "#import libraries\n",
        "import pandas as pd\n",
        "import numpy as np"
      ],
      "execution_count": 0,
      "outputs": []
    },
    {
      "cell_type": "code",
      "metadata": {
        "id": "hKrTv634rkqZ",
        "colab_type": "code",
        "colab": {
          "resources": {
            "http://localhost:8080/nbextensions/google.colab/files.js": {
              "data": "Ly8gQ29weXJpZ2h0IDIwMTcgR29vZ2xlIExMQwovLwovLyBMaWNlbnNlZCB1bmRlciB0aGUgQXBhY2hlIExpY2Vuc2UsIFZlcnNpb24gMi4wICh0aGUgIkxpY2Vuc2UiKTsKLy8geW91IG1heSBub3QgdXNlIHRoaXMgZmlsZSBleGNlcHQgaW4gY29tcGxpYW5jZSB3aXRoIHRoZSBMaWNlbnNlLgovLyBZb3UgbWF5IG9idGFpbiBhIGNvcHkgb2YgdGhlIExpY2Vuc2UgYXQKLy8KLy8gICAgICBodHRwOi8vd3d3LmFwYWNoZS5vcmcvbGljZW5zZXMvTElDRU5TRS0yLjAKLy8KLy8gVW5sZXNzIHJlcXVpcmVkIGJ5IGFwcGxpY2FibGUgbGF3IG9yIGFncmVlZCB0byBpbiB3cml0aW5nLCBzb2Z0d2FyZQovLyBkaXN0cmlidXRlZCB1bmRlciB0aGUgTGljZW5zZSBpcyBkaXN0cmlidXRlZCBvbiBhbiAiQVMgSVMiIEJBU0lTLAovLyBXSVRIT1VUIFdBUlJBTlRJRVMgT1IgQ09ORElUSU9OUyBPRiBBTlkgS0lORCwgZWl0aGVyIGV4cHJlc3Mgb3IgaW1wbGllZC4KLy8gU2VlIHRoZSBMaWNlbnNlIGZvciB0aGUgc3BlY2lmaWMgbGFuZ3VhZ2UgZ292ZXJuaW5nIHBlcm1pc3Npb25zIGFuZAovLyBsaW1pdGF0aW9ucyB1bmRlciB0aGUgTGljZW5zZS4KCi8qKgogKiBAZmlsZW92ZXJ2aWV3IEhlbHBlcnMgZm9yIGdvb2dsZS5jb2xhYiBQeXRob24gbW9kdWxlLgogKi8KKGZ1bmN0aW9uKHNjb3BlKSB7CmZ1bmN0aW9uIHNwYW4odGV4dCwgc3R5bGVBdHRyaWJ1dGVzID0ge30pIHsKICBjb25zdCBlbGVtZW50ID0gZG9jdW1lbnQuY3JlYXRlRWxlbWVudCgnc3BhbicpOwogIGVsZW1lbnQudGV4dENvbnRlbnQgPSB0ZXh0OwogIGZvciAoY29uc3Qga2V5IG9mIE9iamVjdC5rZXlzKHN0eWxlQXR0cmlidXRlcykpIHsKICAgIGVsZW1lbnQuc3R5bGVba2V5XSA9IHN0eWxlQXR0cmlidXRlc1trZXldOwogIH0KICByZXR1cm4gZWxlbWVudDsKfQoKLy8gTWF4IG51bWJlciBvZiBieXRlcyB3aGljaCB3aWxsIGJlIHVwbG9hZGVkIGF0IGEgdGltZS4KY29uc3QgTUFYX1BBWUxPQURfU0laRSA9IDEwMCAqIDEwMjQ7Ci8vIE1heCBhbW91bnQgb2YgdGltZSB0byBibG9jayB3YWl0aW5nIGZvciB0aGUgdXNlci4KY29uc3QgRklMRV9DSEFOR0VfVElNRU9VVF9NUyA9IDMwICogMTAwMDsKCmZ1bmN0aW9uIF91cGxvYWRGaWxlcyhpbnB1dElkLCBvdXRwdXRJZCkgewogIGNvbnN0IHN0ZXBzID0gdXBsb2FkRmlsZXNTdGVwKGlucHV0SWQsIG91dHB1dElkKTsKICBjb25zdCBvdXRwdXRFbGVtZW50ID0gZG9jdW1lbnQuZ2V0RWxlbWVudEJ5SWQob3V0cHV0SWQpOwogIC8vIENhY2hlIHN0ZXBzIG9uIHRoZSBvdXRwdXRFbGVtZW50IHRvIG1ha2UgaXQgYXZhaWxhYmxlIGZvciB0aGUgbmV4dCBjYWxsCiAgLy8gdG8gdXBsb2FkRmlsZXNDb250aW51ZSBmcm9tIFB5dGhvbi4KICBvdXRwdXRFbGVtZW50LnN0ZXBzID0gc3RlcHM7CgogIHJldHVybiBfdXBsb2FkRmlsZXNDb250aW51ZShvdXRwdXRJZCk7Cn0KCi8vIFRoaXMgaXMgcm91Z2hseSBhbiBhc3luYyBnZW5lcmF0b3IgKG5vdCBzdXBwb3J0ZWQgaW4gdGhlIGJyb3dzZXIgeWV0KSwKLy8gd2hlcmUgdGhlcmUgYXJlIG11bHRpcGxlIGFzeW5jaHJvbm91cyBzdGVwcyBhbmQgdGhlIFB5dGhvbiBzaWRlIGlzIGdvaW5nCi8vIHRvIHBvbGwgZm9yIGNvbXBsZXRpb24gb2YgZWFjaCBzdGVwLgovLyBUaGlzIHVzZXMgYSBQcm9taXNlIHRvIGJsb2NrIHRoZSBweXRob24gc2lkZSBvbiBjb21wbGV0aW9uIG9mIGVhY2ggc3RlcCwKLy8gdGhlbiBwYXNzZXMgdGhlIHJlc3VsdCBvZiB0aGUgcHJldmlvdXMgc3RlcCBhcyB0aGUgaW5wdXQgdG8gdGhlIG5leHQgc3RlcC4KZnVuY3Rpb24gX3VwbG9hZEZpbGVzQ29udGludWUob3V0cHV0SWQpIHsKICBjb25zdCBvdXRwdXRFbGVtZW50ID0gZG9jdW1lbnQuZ2V0RWxlbWVudEJ5SWQob3V0cHV0SWQpOwogIGNvbnN0IHN0ZXBzID0gb3V0cHV0RWxlbWVudC5zdGVwczsKCiAgY29uc3QgbmV4dCA9IHN0ZXBzLm5leHQob3V0cHV0RWxlbWVudC5sYXN0UHJvbWlzZVZhbHVlKTsKICByZXR1cm4gUHJvbWlzZS5yZXNvbHZlKG5leHQudmFsdWUucHJvbWlzZSkudGhlbigodmFsdWUpID0+IHsKICAgIC8vIENhY2hlIHRoZSBsYXN0IHByb21pc2UgdmFsdWUgdG8gbWFrZSBpdCBhdmFpbGFibGUgdG8gdGhlIG5leHQKICAgIC8vIHN0ZXAgb2YgdGhlIGdlbmVyYXRvci4KICAgIG91dHB1dEVsZW1lbnQubGFzdFByb21pc2VWYWx1ZSA9IHZhbHVlOwogICAgcmV0dXJuIG5leHQudmFsdWUucmVzcG9uc2U7CiAgfSk7Cn0KCi8qKgogKiBHZW5lcmF0b3IgZnVuY3Rpb24gd2hpY2ggaXMgY2FsbGVkIGJldHdlZW4gZWFjaCBhc3luYyBzdGVwIG9mIHRoZSB1cGxvYWQKICogcHJvY2Vzcy4KICogQHBhcmFtIHtzdHJpbmd9IGlucHV0SWQgRWxlbWVudCBJRCBvZiB0aGUgaW5wdXQgZmlsZSBwaWNrZXIgZWxlbWVudC4KICogQHBhcmFtIHtzdHJpbmd9IG91dHB1dElkIEVsZW1lbnQgSUQgb2YgdGhlIG91dHB1dCBkaXNwbGF5LgogKiBAcmV0dXJuIHshSXRlcmFibGU8IU9iamVjdD59IEl0ZXJhYmxlIG9mIG5leHQgc3RlcHMuCiAqLwpmdW5jdGlvbiogdXBsb2FkRmlsZXNTdGVwKGlucHV0SWQsIG91dHB1dElkKSB7CiAgY29uc3QgaW5wdXRFbGVtZW50ID0gZG9jdW1lbnQuZ2V0RWxlbWVudEJ5SWQoaW5wdXRJZCk7CiAgaW5wdXRFbGVtZW50LmRpc2FibGVkID0gZmFsc2U7CgogIGNvbnN0IG91dHB1dEVsZW1lbnQgPSBkb2N1bWVudC5nZXRFbGVtZW50QnlJZChvdXRwdXRJZCk7CiAgb3V0cHV0RWxlbWVudC5pbm5lckhUTUwgPSAnJzsKCiAgY29uc3QgcGlja2VkUHJvbWlzZSA9IG5ldyBQcm9taXNlKChyZXNvbHZlKSA9PiB7CiAgICBpbnB1dEVsZW1lbnQuYWRkRXZlbnRMaXN0ZW5lcignY2hhbmdlJywgKGUpID0+IHsKICAgICAgcmVzb2x2ZShlLnRhcmdldC5maWxlcyk7CiAgICB9KTsKICB9KTsKCiAgY29uc3QgY2FuY2VsID0gZG9jdW1lbnQuY3JlYXRlRWxlbWVudCgnYnV0dG9uJyk7CiAgaW5wdXRFbGVtZW50LnBhcmVudEVsZW1lbnQuYXBwZW5kQ2hpbGQoY2FuY2VsKTsKICBjYW5jZWwudGV4dENvbnRlbnQgPSAnQ2FuY2VsIHVwbG9hZCc7CiAgY29uc3QgY2FuY2VsUHJvbWlzZSA9IG5ldyBQcm9taXNlKChyZXNvbHZlKSA9PiB7CiAgICBjYW5jZWwub25jbGljayA9ICgpID0+IHsKICAgICAgcmVzb2x2ZShudWxsKTsKICAgIH07CiAgfSk7CgogIC8vIENhbmNlbCB1cGxvYWQgaWYgdXNlciBoYXNuJ3QgcGlja2VkIGFueXRoaW5nIGluIHRpbWVvdXQuCiAgY29uc3QgdGltZW91dFByb21pc2UgPSBuZXcgUHJvbWlzZSgocmVzb2x2ZSkgPT4gewogICAgc2V0VGltZW91dCgoKSA9PiB7CiAgICAgIHJlc29sdmUobnVsbCk7CiAgICB9LCBGSUxFX0NIQU5HRV9USU1FT1VUX01TKTsKICB9KTsKCiAgLy8gV2FpdCBmb3IgdGhlIHVzZXIgdG8gcGljayB0aGUgZmlsZXMuCiAgY29uc3QgZmlsZXMgPSB5aWVsZCB7CiAgICBwcm9taXNlOiBQcm9taXNlLnJhY2UoW3BpY2tlZFByb21pc2UsIHRpbWVvdXRQcm9taXNlLCBjYW5jZWxQcm9taXNlXSksCiAgICByZXNwb25zZTogewogICAgICBhY3Rpb246ICdzdGFydGluZycsCiAgICB9CiAgfTsKCiAgaWYgKCFmaWxlcykgewogICAgcmV0dXJuIHsKICAgICAgcmVzcG9uc2U6IHsKICAgICAgICBhY3Rpb246ICdjb21wbGV0ZScsCiAgICAgIH0KICAgIH07CiAgfQoKICBjYW5jZWwucmVtb3ZlKCk7CgogIC8vIERpc2FibGUgdGhlIGlucHV0IGVsZW1lbnQgc2luY2UgZnVydGhlciBwaWNrcyBhcmUgbm90IGFsbG93ZWQuCiAgaW5wdXRFbGVtZW50LmRpc2FibGVkID0gdHJ1ZTsKCiAgZm9yIChjb25zdCBmaWxlIG9mIGZpbGVzKSB7CiAgICBjb25zdCBsaSA9IGRvY3VtZW50LmNyZWF0ZUVsZW1lbnQoJ2xpJyk7CiAgICBsaS5hcHBlbmQoc3BhbihmaWxlLm5hbWUsIHtmb250V2VpZ2h0OiAnYm9sZCd9KSk7CiAgICBsaS5hcHBlbmQoc3BhbigKICAgICAgICBgKCR7ZmlsZS50eXBlIHx8ICduL2EnfSkgLSAke2ZpbGUuc2l6ZX0gYnl0ZXMsIGAgKwogICAgICAgIGBsYXN0IG1vZGlmaWVkOiAkewogICAgICAgICAgICBmaWxlLmxhc3RNb2RpZmllZERhdGUgPyBmaWxlLmxhc3RNb2RpZmllZERhdGUudG9Mb2NhbGVEYXRlU3RyaW5nKCkgOgogICAgICAgICAgICAgICAgICAgICAgICAgICAgICAgICAgICAnbi9hJ30gLSBgKSk7CiAgICBjb25zdCBwZXJjZW50ID0gc3BhbignMCUgZG9uZScpOwogICAgbGkuYXBwZW5kQ2hpbGQocGVyY2VudCk7CgogICAgb3V0cHV0RWxlbWVudC5hcHBlbmRDaGlsZChsaSk7CgogICAgY29uc3QgZmlsZURhdGFQcm9taXNlID0gbmV3IFByb21pc2UoKHJlc29sdmUpID0+IHsKICAgICAgY29uc3QgcmVhZGVyID0gbmV3IEZpbGVSZWFkZXIoKTsKICAgICAgcmVhZGVyLm9ubG9hZCA9IChlKSA9PiB7CiAgICAgICAgcmVzb2x2ZShlLnRhcmdldC5yZXN1bHQpOwogICAgICB9OwogICAgICByZWFkZXIucmVhZEFzQXJyYXlCdWZmZXIoZmlsZSk7CiAgICB9KTsKICAgIC8vIFdhaXQgZm9yIHRoZSBkYXRhIHRvIGJlIHJlYWR5LgogICAgbGV0IGZpbGVEYXRhID0geWllbGQgewogICAgICBwcm9taXNlOiBmaWxlRGF0YVByb21pc2UsCiAgICAgIHJlc3BvbnNlOiB7CiAgICAgICAgYWN0aW9uOiAnY29udGludWUnLAogICAgICB9CiAgICB9OwoKICAgIC8vIFVzZSBhIGNodW5rZWQgc2VuZGluZyB0byBhdm9pZCBtZXNzYWdlIHNpemUgbGltaXRzLiBTZWUgYi82MjExNTY2MC4KICAgIGxldCBwb3NpdGlvbiA9IDA7CiAgICB3aGlsZSAocG9zaXRpb24gPCBmaWxlRGF0YS5ieXRlTGVuZ3RoKSB7CiAgICAgIGNvbnN0IGxlbmd0aCA9IE1hdGgubWluKGZpbGVEYXRhLmJ5dGVMZW5ndGggLSBwb3NpdGlvbiwgTUFYX1BBWUxPQURfU0laRSk7CiAgICAgIGNvbnN0IGNodW5rID0gbmV3IFVpbnQ4QXJyYXkoZmlsZURhdGEsIHBvc2l0aW9uLCBsZW5ndGgpOwogICAgICBwb3NpdGlvbiArPSBsZW5ndGg7CgogICAgICBjb25zdCBiYXNlNjQgPSBidG9hKFN0cmluZy5mcm9tQ2hhckNvZGUuYXBwbHkobnVsbCwgY2h1bmspKTsKICAgICAgeWllbGQgewogICAgICAgIHJlc3BvbnNlOiB7CiAgICAgICAgICBhY3Rpb246ICdhcHBlbmQnLAogICAgICAgICAgZmlsZTogZmlsZS5uYW1lLAogICAgICAgICAgZGF0YTogYmFzZTY0LAogICAgICAgIH0sCiAgICAgIH07CiAgICAgIHBlcmNlbnQudGV4dENvbnRlbnQgPQogICAgICAgICAgYCR7TWF0aC5yb3VuZCgocG9zaXRpb24gLyBmaWxlRGF0YS5ieXRlTGVuZ3RoKSAqIDEwMCl9JSBkb25lYDsKICAgIH0KICB9CgogIC8vIEFsbCBkb25lLgogIHlpZWxkIHsKICAgIHJlc3BvbnNlOiB7CiAgICAgIGFjdGlvbjogJ2NvbXBsZXRlJywKICAgIH0KICB9Owp9CgpzY29wZS5nb29nbGUgPSBzY29wZS5nb29nbGUgfHwge307CnNjb3BlLmdvb2dsZS5jb2xhYiA9IHNjb3BlLmdvb2dsZS5jb2xhYiB8fCB7fTsKc2NvcGUuZ29vZ2xlLmNvbGFiLl9maWxlcyA9IHsKICBfdXBsb2FkRmlsZXMsCiAgX3VwbG9hZEZpbGVzQ29udGludWUsCn07Cn0pKHNlbGYpOwo=",
              "ok": true,
              "headers": [
                [
                  "content-type",
                  "application/javascript"
                ]
              ],
              "status": 200,
              "status_text": ""
            }
          },
          "base_uri": "https://localhost:8080/",
          "height": 74
        },
        "outputId": "99699f27-b98e-4f19-fec7-7324c3cb320d"
      },
      "source": [
        "#load data\n",
        "from google.colab import files\n",
        "uploaded = files.upload()"
      ],
      "execution_count": 4,
      "outputs": [
        {
          "output_type": "display_data",
          "data": {
            "text/html": [
              "\n",
              "     <input type=\"file\" id=\"files-a5d79dfc-bd26-4c48-92d9-4b38c0261091\" name=\"files[]\" multiple disabled />\n",
              "     <output id=\"result-a5d79dfc-bd26-4c48-92d9-4b38c0261091\">\n",
              "      Upload widget is only available when the cell has been executed in the\n",
              "      current browser session. Please rerun this cell to enable.\n",
              "      </output>\n",
              "      <script src=\"/nbextensions/google.colab/files.js\"></script> "
            ],
            "text/plain": [
              "<IPython.core.display.HTML object>"
            ]
          },
          "metadata": {
            "tags": []
          }
        },
        {
          "output_type": "stream",
          "text": [
            "Saving BTC-USD.csv to BTC-USD.csv\n"
          ],
          "name": "stdout"
        }
      ]
    },
    {
      "cell_type": "code",
      "metadata": {
        "id": "IXDnQpgJtHDQ",
        "colab_type": "code",
        "colab": {
          "base_uri": "https://localhost:8080/",
          "height": 257
        },
        "outputId": "a6e8319b-02a6-4cba-a6c7-20d0719106bc"
      },
      "source": [
        "#store data\n",
        "BTC = pd.read_csv('BTC-USD.csv')\n",
        "BTC.head(7)"
      ],
      "execution_count": 8,
      "outputs": [
        {
          "output_type": "execute_result",
          "data": {
            "text/html": [
              "<div>\n",
              "<style scoped>\n",
              "    .dataframe tbody tr th:only-of-type {\n",
              "        vertical-align: middle;\n",
              "    }\n",
              "\n",
              "    .dataframe tbody tr th {\n",
              "        vertical-align: top;\n",
              "    }\n",
              "\n",
              "    .dataframe thead th {\n",
              "        text-align: right;\n",
              "    }\n",
              "</style>\n",
              "<table border=\"1\" class=\"dataframe\">\n",
              "  <thead>\n",
              "    <tr style=\"text-align: right;\">\n",
              "      <th></th>\n",
              "      <th>Date</th>\n",
              "      <th>Open</th>\n",
              "      <th>High</th>\n",
              "      <th>Low</th>\n",
              "      <th>Close</th>\n",
              "      <th>Adj Close</th>\n",
              "      <th>Volume</th>\n",
              "    </tr>\n",
              "  </thead>\n",
              "  <tbody>\n",
              "    <tr>\n",
              "      <th>0</th>\n",
              "      <td>2016-01-01</td>\n",
              "      <td>430.721008</td>\n",
              "      <td>436.246002</td>\n",
              "      <td>427.515015</td>\n",
              "      <td>434.334015</td>\n",
              "      <td>434.334015</td>\n",
              "      <td>36278900</td>\n",
              "    </tr>\n",
              "    <tr>\n",
              "      <th>1</th>\n",
              "      <td>2016-01-02</td>\n",
              "      <td>434.622009</td>\n",
              "      <td>436.062012</td>\n",
              "      <td>431.869995</td>\n",
              "      <td>433.437988</td>\n",
              "      <td>433.437988</td>\n",
              "      <td>30096600</td>\n",
              "    </tr>\n",
              "    <tr>\n",
              "      <th>2</th>\n",
              "      <td>2016-01-03</td>\n",
              "      <td>433.578003</td>\n",
              "      <td>433.743011</td>\n",
              "      <td>424.705994</td>\n",
              "      <td>430.010986</td>\n",
              "      <td>430.010986</td>\n",
              "      <td>39633800</td>\n",
              "    </tr>\n",
              "    <tr>\n",
              "      <th>3</th>\n",
              "      <td>2016-01-04</td>\n",
              "      <td>430.061005</td>\n",
              "      <td>434.516998</td>\n",
              "      <td>429.084015</td>\n",
              "      <td>433.091003</td>\n",
              "      <td>433.091003</td>\n",
              "      <td>38477500</td>\n",
              "    </tr>\n",
              "    <tr>\n",
              "      <th>4</th>\n",
              "      <td>2016-01-05</td>\n",
              "      <td>433.069000</td>\n",
              "      <td>434.182007</td>\n",
              "      <td>429.675995</td>\n",
              "      <td>431.959991</td>\n",
              "      <td>431.959991</td>\n",
              "      <td>34522600</td>\n",
              "    </tr>\n",
              "    <tr>\n",
              "      <th>5</th>\n",
              "      <td>2016-01-06</td>\n",
              "      <td>431.855988</td>\n",
              "      <td>431.855988</td>\n",
              "      <td>426.341003</td>\n",
              "      <td>429.105011</td>\n",
              "      <td>429.105011</td>\n",
              "      <td>34042500</td>\n",
              "    </tr>\n",
              "    <tr>\n",
              "      <th>6</th>\n",
              "      <td>2016-01-07</td>\n",
              "      <td>430.010986</td>\n",
              "      <td>458.765991</td>\n",
              "      <td>429.076996</td>\n",
              "      <td>458.048004</td>\n",
              "      <td>458.048004</td>\n",
              "      <td>87562200</td>\n",
              "    </tr>\n",
              "  </tbody>\n",
              "</table>\n",
              "</div>"
            ],
            "text/plain": [
              "         Date        Open        High  ...       Close   Adj Close    Volume\n",
              "0  2016-01-01  430.721008  436.246002  ...  434.334015  434.334015  36278900\n",
              "1  2016-01-02  434.622009  436.062012  ...  433.437988  433.437988  30096600\n",
              "2  2016-01-03  433.578003  433.743011  ...  430.010986  430.010986  39633800\n",
              "3  2016-01-04  430.061005  434.516998  ...  433.091003  433.091003  38477500\n",
              "4  2016-01-05  433.069000  434.182007  ...  431.959991  431.959991  34522600\n",
              "5  2016-01-06  431.855988  431.855988  ...  429.105011  429.105011  34042500\n",
              "6  2016-01-07  430.010986  458.765991  ...  458.048004  458.048004  87562200\n",
              "\n",
              "[7 rows x 7 columns]"
            ]
          },
          "metadata": {
            "tags": []
          },
          "execution_count": 8
        }
      ]
    },
    {
      "cell_type": "code",
      "metadata": {
        "id": "GdAym4Jntsbf",
        "colab_type": "code",
        "colab": {
          "base_uri": "https://localhost:8080/",
          "height": 257
        },
        "outputId": "5d40f72c-2b5d-4fa8-c8bb-1179344eaeed"
      },
      "source": [
        "#remove unwated columns\n",
        "BTC.drop(['Date','High','Low','Close','Adj Close','Volume'],axis = 1, inplace=True)\n",
        "BTC.head(7)"
      ],
      "execution_count": 13,
      "outputs": [
        {
          "output_type": "execute_result",
          "data": {
            "text/html": [
              "<div>\n",
              "<style scoped>\n",
              "    .dataframe tbody tr th:only-of-type {\n",
              "        vertical-align: middle;\n",
              "    }\n",
              "\n",
              "    .dataframe tbody tr th {\n",
              "        vertical-align: top;\n",
              "    }\n",
              "\n",
              "    .dataframe thead th {\n",
              "        text-align: right;\n",
              "    }\n",
              "</style>\n",
              "<table border=\"1\" class=\"dataframe\">\n",
              "  <thead>\n",
              "    <tr style=\"text-align: right;\">\n",
              "      <th></th>\n",
              "      <th>Open</th>\n",
              "    </tr>\n",
              "  </thead>\n",
              "  <tbody>\n",
              "    <tr>\n",
              "      <th>0</th>\n",
              "      <td>430.721008</td>\n",
              "    </tr>\n",
              "    <tr>\n",
              "      <th>1</th>\n",
              "      <td>434.622009</td>\n",
              "    </tr>\n",
              "    <tr>\n",
              "      <th>2</th>\n",
              "      <td>433.578003</td>\n",
              "    </tr>\n",
              "    <tr>\n",
              "      <th>3</th>\n",
              "      <td>430.061005</td>\n",
              "    </tr>\n",
              "    <tr>\n",
              "      <th>4</th>\n",
              "      <td>433.069000</td>\n",
              "    </tr>\n",
              "    <tr>\n",
              "      <th>5</th>\n",
              "      <td>431.855988</td>\n",
              "    </tr>\n",
              "    <tr>\n",
              "      <th>6</th>\n",
              "      <td>430.010986</td>\n",
              "    </tr>\n",
              "  </tbody>\n",
              "</table>\n",
              "</div>"
            ],
            "text/plain": [
              "         Open\n",
              "0  430.721008\n",
              "1  434.622009\n",
              "2  433.578003\n",
              "3  430.061005\n",
              "4  433.069000\n",
              "5  431.855988\n",
              "6  430.010986"
            ]
          },
          "metadata": {
            "tags": []
          },
          "execution_count": 13
        }
      ]
    },
    {
      "cell_type": "code",
      "metadata": {
        "id": "v89zv88Gv6mV",
        "colab_type": "code",
        "colab": {
          "base_uri": "https://localhost:8080/",
          "height": 257
        },
        "outputId": "13b9aaeb-3ae5-4166-bd62-b10c5c0a49a0"
      },
      "source": [
        "#variable for predicting 'n' days into the future\n",
        "prediction_days = 30\n",
        "\n",
        "#create another colum which contains the prediction values shifted 'n' units up\n",
        "BTC['Prediction'] = BTC[['Open']].shift(-prediction_days)\n",
        "BTC.head(7)"
      ],
      "execution_count": 17,
      "outputs": [
        {
          "output_type": "execute_result",
          "data": {
            "text/html": [
              "<div>\n",
              "<style scoped>\n",
              "    .dataframe tbody tr th:only-of-type {\n",
              "        vertical-align: middle;\n",
              "    }\n",
              "\n",
              "    .dataframe tbody tr th {\n",
              "        vertical-align: top;\n",
              "    }\n",
              "\n",
              "    .dataframe thead th {\n",
              "        text-align: right;\n",
              "    }\n",
              "</style>\n",
              "<table border=\"1\" class=\"dataframe\">\n",
              "  <thead>\n",
              "    <tr style=\"text-align: right;\">\n",
              "      <th></th>\n",
              "      <th>Open</th>\n",
              "      <th>Prediction</th>\n",
              "    </tr>\n",
              "  </thead>\n",
              "  <tbody>\n",
              "    <tr>\n",
              "      <th>0</th>\n",
              "      <td>430.721008</td>\n",
              "      <td>378.292999</td>\n",
              "    </tr>\n",
              "    <tr>\n",
              "      <th>1</th>\n",
              "      <td>434.622009</td>\n",
              "      <td>369.350006</td>\n",
              "    </tr>\n",
              "    <tr>\n",
              "      <th>2</th>\n",
              "      <td>433.578003</td>\n",
              "      <td>372.920013</td>\n",
              "    </tr>\n",
              "    <tr>\n",
              "      <th>3</th>\n",
              "      <td>430.061005</td>\n",
              "      <td>374.645996</td>\n",
              "    </tr>\n",
              "    <tr>\n",
              "      <th>4</th>\n",
              "      <td>433.069000</td>\n",
              "      <td>370.174011</td>\n",
              "    </tr>\n",
              "    <tr>\n",
              "      <th>5</th>\n",
              "      <td>431.855988</td>\n",
              "      <td>388.898010</td>\n",
              "    </tr>\n",
              "    <tr>\n",
              "      <th>6</th>\n",
              "      <td>430.010986</td>\n",
              "      <td>386.588989</td>\n",
              "    </tr>\n",
              "  </tbody>\n",
              "</table>\n",
              "</div>"
            ],
            "text/plain": [
              "         Open  Prediction\n",
              "0  430.721008  378.292999\n",
              "1  434.622009  369.350006\n",
              "2  433.578003  372.920013\n",
              "3  430.061005  374.645996\n",
              "4  433.069000  370.174011\n",
              "5  431.855988  388.898010\n",
              "6  430.010986  386.588989"
            ]
          },
          "metadata": {
            "tags": []
          },
          "execution_count": 17
        }
      ]
    },
    {
      "cell_type": "code",
      "metadata": {
        "id": "vn8_1zqJwaI1",
        "colab_type": "code",
        "colab": {
          "base_uri": "https://localhost:8080/",
          "height": 257
        },
        "outputId": "b7f1ffd9-3ca9-471d-c838-639eff0cc02b"
      },
      "source": [
        "#show the last 7 rows of the new data set\n",
        "BTC.tail(7)"
      ],
      "execution_count": 18,
      "outputs": [
        {
          "output_type": "execute_result",
          "data": {
            "text/html": [
              "<div>\n",
              "<style scoped>\n",
              "    .dataframe tbody tr th:only-of-type {\n",
              "        vertical-align: middle;\n",
              "    }\n",
              "\n",
              "    .dataframe tbody tr th {\n",
              "        vertical-align: top;\n",
              "    }\n",
              "\n",
              "    .dataframe thead th {\n",
              "        text-align: right;\n",
              "    }\n",
              "</style>\n",
              "<table border=\"1\" class=\"dataframe\">\n",
              "  <thead>\n",
              "    <tr style=\"text-align: right;\">\n",
              "      <th></th>\n",
              "      <th>Open</th>\n",
              "      <th>Prediction</th>\n",
              "    </tr>\n",
              "  </thead>\n",
              "  <tbody>\n",
              "    <tr>\n",
              "      <th>1588</th>\n",
              "      <td>9261.895508</td>\n",
              "      <td>NaN</td>\n",
              "    </tr>\n",
              "    <tr>\n",
              "      <th>1589</th>\n",
              "      <td>9936.162109</td>\n",
              "      <td>NaN</td>\n",
              "    </tr>\n",
              "    <tr>\n",
              "      <th>1590</th>\n",
              "      <td>9840.906250</td>\n",
              "      <td>NaN</td>\n",
              "    </tr>\n",
              "    <tr>\n",
              "      <th>1591</th>\n",
              "      <td>9591.168945</td>\n",
              "      <td>NaN</td>\n",
              "    </tr>\n",
              "    <tr>\n",
              "      <th>1592</th>\n",
              "      <td>8755.535156</td>\n",
              "      <td>NaN</td>\n",
              "    </tr>\n",
              "    <tr>\n",
              "      <th>1593</th>\n",
              "      <td>8610.385742</td>\n",
              "      <td>NaN</td>\n",
              "    </tr>\n",
              "    <tr>\n",
              "      <th>1594</th>\n",
              "      <td>8814.831055</td>\n",
              "      <td>NaN</td>\n",
              "    </tr>\n",
              "  </tbody>\n",
              "</table>\n",
              "</div>"
            ],
            "text/plain": [
              "             Open  Prediction\n",
              "1588  9261.895508         NaN\n",
              "1589  9936.162109         NaN\n",
              "1590  9840.906250         NaN\n",
              "1591  9591.168945         NaN\n",
              "1592  8755.535156         NaN\n",
              "1593  8610.385742         NaN\n",
              "1594  8814.831055         NaN"
            ]
          },
          "metadata": {
            "tags": []
          },
          "execution_count": 18
        }
      ]
    },
    {
      "cell_type": "code",
      "metadata": {
        "id": "SlDiu1QZw6Ft",
        "colab_type": "code",
        "colab": {
          "base_uri": "https://localhost:8080/",
          "height": 141
        },
        "outputId": "cf053b5b-37d3-448c-ea4b-eb9a2c042f23"
      },
      "source": [
        "#independent dataset\n",
        "\n",
        "#convert dataframe to numpy array and drop the prediction column\n",
        "X = np.array(BTC.drop(['Prediction'], 1))\n",
        "\n",
        "#remove the last 'n' rows wheer 'n' is the last prediction_days\n",
        "X = X[:len(BTC)-prediction_days]\n",
        "\n",
        "print(X)"
      ],
      "execution_count": 22,
      "outputs": [
        {
          "output_type": "stream",
          "text": [
            "[[ 430.721008]\n",
            " [ 434.622009]\n",
            " [ 433.578003]\n",
            " ...\n",
            " [6867.44043 ]\n",
            " [6858.067871]\n",
            " [6965.616699]]\n"
          ],
          "name": "stdout"
        }
      ]
    },
    {
      "cell_type": "code",
      "metadata": {
        "id": "x1GG4csHx4GA",
        "colab_type": "code",
        "colab": {
          "base_uri": "https://localhost:8080/",
          "height": 52
        },
        "outputId": "9980d569-32ea-4605-ceeb-c540878f8377"
      },
      "source": [
        "#create dependent dataset\n",
        "\n",
        "#convert dataframe to numpy array\n",
        "y = np.array(BTC['Prediction'])\n",
        "\n",
        "#get all values except last 'n' rows\n",
        "y = y[:-prediction_days]\n",
        "print(y)"
      ],
      "execution_count": 23,
      "outputs": [
        {
          "output_type": "stream",
          "text": [
            "[ 378.292999  369.350006  372.920013 ... 8755.535156 8610.385742\n",
            " 8814.831055]\n"
          ],
          "name": "stdout"
        }
      ]
    },
    {
      "cell_type": "code",
      "metadata": {
        "id": "KBl9F9LeydWd",
        "colab_type": "code",
        "colab": {}
      },
      "source": [
        "#split into 80% training and 20% test\n",
        "from sklearn.model_selection import train_test_split\n",
        "x_train, x_test, y_train, y_test = train_test_split(X,y, test_size = 0.2)"
      ],
      "execution_count": 0,
      "outputs": []
    },
    {
      "cell_type": "code",
      "metadata": {
        "id": "u8wLXoq9y_Y0",
        "colab_type": "code",
        "colab": {
          "base_uri": "https://localhost:8080/",
          "height": 550
        },
        "outputId": "e3e20bf5-9747-4abd-d382-e4c99396be17"
      },
      "source": [
        "#set the predictio_days_array = last 30 rows from original dataset\n",
        "prediction_days_array = np.array(BTC.drop(['Prediction'],1))[-prediction_days:]\n",
        "print(prediction_days_array)"
      ],
      "execution_count": 28,
      "outputs": [
        {
          "output_type": "stream",
          "text": [
            "[[6843.281738]\n",
            " [6845.561523]\n",
            " [6640.454102]\n",
            " [7116.552734]\n",
            " [7092.291504]\n",
            " [7260.922363]\n",
            " [7186.873535]\n",
            " [6879.78418 ]\n",
            " [6879.44043 ]\n",
            " [7121.306152]\n",
            " [7434.181641]\n",
            " [7550.48291 ]\n",
            " [7570.13916 ]\n",
            " [7679.418945]\n",
            " [7796.970215]\n",
            " [7806.712402]\n",
            " [8797.669922]\n",
            " [8672.782227]\n",
            " [8869.057617]\n",
            " [8983.614258]\n",
            " [8895.745117]\n",
            " [8912.832031]\n",
            " [9007.441406]\n",
            " [9261.895508]\n",
            " [9936.162109]\n",
            " [9840.90625 ]\n",
            " [9591.168945]\n",
            " [8755.535156]\n",
            " [8610.385742]\n",
            " [8814.831055]]\n"
          ],
          "name": "stdout"
        }
      ]
    },
    {
      "cell_type": "code",
      "metadata": {
        "id": "XNWdqEMBzkhd",
        "colab_type": "code",
        "colab": {
          "base_uri": "https://localhost:8080/",
          "height": 52
        },
        "outputId": "3fed427a-69cf-4781-f5e4-67d5e28d90c3"
      },
      "source": [
        "from sklearn.svm import SVR\n",
        "\n",
        "#create and train the Support Vector Maching (Regression) 'SVR' using radial basis function\n",
        "svr_rbf = SVR(kernel = 'rbf', C=1e3, gamma = 0.00001)\n",
        "svr_rbf.fit(x_train, y_train)"
      ],
      "execution_count": 30,
      "outputs": [
        {
          "output_type": "execute_result",
          "data": {
            "text/plain": [
              "SVR(C=1000.0, cache_size=200, coef0=0.0, degree=3, epsilon=0.1, gamma=1e-05,\n",
              "    kernel='rbf', max_iter=-1, shrinking=True, tol=0.001, verbose=False)"
            ]
          },
          "metadata": {
            "tags": []
          },
          "execution_count": 30
        }
      ]
    },
    {
      "cell_type": "code",
      "metadata": {
        "id": "wctXtRyR0FI_",
        "colab_type": "code",
        "colab": {
          "base_uri": "https://localhost:8080/",
          "height": 34
        },
        "outputId": "99c5f71b-2d34-468c-b7c1-e509d58b48af"
      },
      "source": [
        "#test the model\n",
        "svr_rbf_confidence = svr_rbf.score(x_test, y_test)\n",
        "print(\"svr_rbf accuracy: \", svr_rbf_confidence)"
      ],
      "execution_count": 31,
      "outputs": [
        {
          "output_type": "stream",
          "text": [
            "svr_rbf accuracy:  0.7879576687165534\n"
          ],
          "name": "stdout"
        }
      ]
    },
    {
      "cell_type": "code",
      "metadata": {
        "id": "tuBwDUnq0UJL",
        "colab_type": "code",
        "colab": {
          "base_uri": "https://localhost:8080/",
          "height": 1000
        },
        "outputId": "72e2ac35-dcbc-45b3-c0a8-a79979ffe024"
      },
      "source": [
        "#print the predicted values\n",
        "svm_prediction = svr_rbf.predict(x_test)\n",
        "print(svm_prediction)\n",
        "\n",
        "print()\n",
        "\n",
        "#print actual values\n",
        "print(y_test)"
      ],
      "execution_count": 33,
      "outputs": [
        {
          "output_type": "stream",
          "text": [
            "[10268.46126046  3312.06621975  3928.13802415   448.18989055\n",
            "  3915.33037312   829.47459457  6074.31318974  9658.87815059\n",
            "  6222.34100778  7638.31933559  8429.45494272   932.77012442\n",
            "  6711.42340816  8463.12205316  6562.77649937  1486.8327362\n",
            "  9314.16170942  6220.66695384  8709.36581998   939.10426054\n",
            "   902.04941817   639.5184615  10208.77396687  6346.33781193\n",
            "  4310.6911624   8925.75629409 10517.47165766  8514.48417324\n",
            "  8597.96438371  8597.08407989  8066.11336617  7027.58706291\n",
            "  8822.62136679  1601.82835244  8257.5295556   8394.34159783\n",
            "  8095.02489492   647.68428711  8742.78437808   428.05239487\n",
            "  2722.88213276   613.96976742  7800.81095749  7423.87691265\n",
            "  2819.82564466  6198.02767012  4133.41832658   748.45084417\n",
            "  7617.75688429  8730.44774746  9195.77179992  6254.51642748\n",
            "   600.97218199   435.0068721   2695.11303778  4615.33480686\n",
            "  9163.91006972   708.76325748   745.65183905  8839.13751085\n",
            "   443.035619    9013.56154657  8095.06599863  3514.92000196\n",
            "  4633.24983535   451.02178122  4512.56904277  7723.1618217\n",
            "   429.36970526  4609.65148852  4214.95367239  8588.17728677\n",
            "  4144.95579614  8541.18468583  6586.40024333  9312.06239549\n",
            " 10517.59617825  7396.83887421  6197.45398365   633.50319179\n",
            "  4272.56053944  7877.68743068  8781.63582926  1258.76709938\n",
            "  8804.5940229    615.97098779  2823.87588128  4497.18417339\n",
            "  4332.70716013  8936.34034041  7432.72509937  2829.29912665\n",
            "  7435.0286915   9152.49587942  7433.26410974  7737.55339138\n",
            "  5998.77075192  3917.04623052  4688.66013492   451.76026222\n",
            "  8717.16186342 10169.59415991   696.18101461  7199.83356906\n",
            "  6969.84012694  6240.49834958  3914.11739591   609.76177558\n",
            "   699.95864738   857.45562136   678.63264064  7151.40988895\n",
            "  1222.09807688  2769.62765512  9260.37467229  6426.4126328\n",
            "  3921.39482498  7461.40717228  8427.51369314  8936.03231637\n",
            "  7650.98468186  7756.95477948  7019.89050099  7885.92037839\n",
            "  4094.25273283 10173.80366451  4472.59334063  4180.5941221\n",
            "  8493.88605857  4122.74017492  9607.72059387   818.17350831\n",
            "  7820.73309948  1748.55053186  8392.88961961  8803.28191025\n",
            "  7570.77868591  6230.67095196   438.82484897   615.20576313\n",
            " 10369.36239211  3685.42951696  1251.36765842  2824.89484027\n",
            "  8280.92883222   444.29824142   609.47296699   785.64962856\n",
            "  7890.37607464  7900.41250943   455.8092868    716.76427475\n",
            "  4686.97294196  2719.10876074  8825.06336185  3958.78315499\n",
            "   426.3609109   4516.35933643  6251.32717748 10127.5667997\n",
            "  8949.2094791   4617.47224706   432.65203887   664.23573127\n",
            "   459.58901881  2767.85416004  6204.32176474  4341.94448664\n",
            "   446.34673389  8588.98080623 10138.45748252  4227.67699046\n",
            "   665.49966627  1230.08805401  7500.55935637   443.91818672\n",
            "  1010.55491159  7427.51813313   866.94340117  3922.05226968\n",
            "  8438.33524475  8827.55529684  4643.59509973  7449.69304778\n",
            "   643.06107081  7225.63005274   624.85961685  6965.8839371\n",
            "   708.68693568  1200.93198816  8695.87923104  4242.61653843\n",
            "   434.37603295   701.16688973  8104.38417089   744.21353994\n",
            "  3913.25617495  8348.49881376  2846.88888877  9338.00729434\n",
            "  8382.07720527  9509.03469937  6282.86150385  7720.72557662\n",
            "  3961.575963   10240.45491643   623.39402524  2467.8118653\n",
            "  6214.62598704   445.02446538  8487.70983811  9028.94402729\n",
            "  2713.45292723  8753.9495014   6216.79481898  7541.77433539\n",
            "  8470.38197407   692.8532304   7867.06673162   450.29174949\n",
            "   801.50520806   764.35981558  8497.76274272  8762.70973085\n",
            "  6198.4936661    443.17201151  1577.24740814  8949.90760925\n",
            "  8197.30633424   435.11041511  4663.7126253   9046.46029978\n",
            "  8056.24771263  7703.99381276  7004.47247903  4011.02633367\n",
            " 10003.70985128  3914.59775254  6583.21664844   436.55739413\n",
            "  7805.82766391  2714.78239036   444.72087342  8345.12169151\n",
            "   426.09643832  3150.86109947  1559.41185341   426.51454578\n",
            "   610.04484878  3920.21711503  6363.01382706  8454.3121727\n",
            "  8644.74586339   627.12291308   617.81035015  8561.15960325\n",
            "  2713.61582775   611.36958321   673.66732532  1065.06332225\n",
            "  8723.58738922  8737.52843398   458.53936603  2740.73365651\n",
            "  6578.3239139    691.71638656  1154.50992286  3925.59693765\n",
            "  8259.81294188  7729.24242136  4512.45788994  7987.7256304\n",
            "  9263.23711907  7488.70111465  6446.85904977 10109.4590555\n",
            "  4199.30009856  1225.56220265  8813.09105766   853.73895029\n",
            "  3929.84263722  8846.96535479  8731.58893326  9535.91251715\n",
            "   429.29752265  8882.87801992  7795.33156647  8420.8614487\n",
            "  1074.36061936  4639.1198671   7371.59563291  3921.6668128\n",
            "  6198.05396035  8940.43615364  8918.18111276  8287.48890012\n",
            "  4106.05145518  7732.3635166   8472.05691708 10236.73300499\n",
            "  1283.75492592   439.68066203  8401.87380794   944.92003393\n",
            "  3920.28314635  8201.90289537   644.5988129   7166.44261341\n",
            "   638.90865792  2716.6385172   7302.26228674  8682.5546438\n",
            "  1674.40900505]\n",
            "\n",
            "[10687.200195  2808.100098  3653.604004   382.114014  5524.600098\n",
            "  1156.72998   5505.552246  8141.430176  4200.733398  6371.339844\n",
            "  8597.308594   991.734985  9645.669922  9651.3125    6468.5\n",
            "  1044.579956 14608.200195  7769.040039  8162.190918  1006.210022\n",
            "   898.171997   630.825012 10135.700195  4024.464355  3832.040039\n",
            "  8071.660156 10518.114258  7997.807129  9202.458008 10077.442383\n",
            "  8210.985352  7768.682129 10237.299805  1026.640015 17462.099609\n",
            " 10944.5       6843.470215   742.346008  8004.243652   421.872009\n",
            "  1991.97998    598.590027  8074.02002   7434.181641  2499.580078\n",
            "  3421.458252  4922.806152   780.646973  6301.069824  8941.445313\n",
            "  6754.640137  6221.419922   575.554993   416.834015  2591.26001\n",
            "  5583.740234  9214.650391   574.338989   768.075989 11381.020508\n",
            "   763.927002 14588.5       7466.727051  2732.699951  5304.160645\n",
            "   575.836975  5335.878906  7092.291504   455.759003  5298.154297\n",
            "  5095.758789  8812.481445  5996.790039  8812.033203  6640.454102\n",
            "  8705.19043  10353.931641  6486.049805  3497.554688   650.726013\n",
            "  3557.311035  5982.316406  6647.698242  1120.650024  8243.402344\n",
            "   602.960999  2807.439941  5312.494629  5289.917969 16642.400391\n",
            " 16523.300781  2716.879883 11500.099609 10108.200195  9078.308594\n",
            "  7499.549805  3742.195068  3903.758301  3591.090088   423.911987\n",
            "  6931.31543  10393.900391   583.411987  7398.633789  6272.700195\n",
            "  3886.294922  3652.37793    606.28302    588.797974   988.89801\n",
            "   655.111023  7044.810059   976.72998   3880.040039  8599.919922\n",
            "  6509.399902  3926.66333   7685.140137  9426.110352  6891.080078\n",
            "  7414.709961  8082.295898  6090.100098  6583.430176  4133.703613\n",
            "  8939.44043   3822.384766  6440.970215 15123.700195  5899.740234\n",
            " 10903.400391   792.247009  8802.757813  1204.810059  7508.902344\n",
            " 14266.099609  8055.206055  4015.070068   418.424011   600.807007\n",
            " 11528.189453  4570.359863  1011.460022  2942.409912 13453.900391\n",
            "   597.442993   606.242981   800.643982  8926.719727  7267.962891\n",
            "   528.471008   577.760986  3725.446045  2538.709961  8076.228516\n",
            "  3984.244873   449.40799   5236.135254  6480.839844 10621.180664\n",
            "  7124.239746  4229.879883   374.645996   651.627014   585.445007\n",
            "  3373.820068  6460.919922  5466.524414   414.464996  7345.375488\n",
            "  7003.060059  3484.625977   751.833008  1267.469971 19106.400391\n",
            "   437.916992   922.205017  6305.560059   775.177979  4122.470215\n",
            " 10136.30957  14370.799805  3916.360107  7901.089844   639.083008\n",
            "  8169.060059   623.424011  7260.922363   573.70697   1254.290039\n",
            "  8315.665039  3631.509766   424.303986   664.921997  7469.72998\n",
            "   780.005005  3903.384766  7922.146973  2897.629883  9855.891602\n",
            " 10247.795898 11306.799805  6247.5       8671.212891  4229.339844\n",
            " 10336.408203   607.005005  2404.030029  3612.046387   473.028992\n",
            " 13952.400391  7303.81543   4066.100098  6437.319336  3880.780029\n",
            "  6603.640137  9921.583008   654.492004  6330.77002    537.682007\n",
            "   896.905029   770.039978  8440.119141  7397.134277 10198.599609\n",
            "   433.437988   974.015015  9687.707031 10777.529297   372.920013\n",
            "  5247.726074 17527.300781  6500.509766  3253.123047  7807.884277\n",
            "  4229.810059 10415.362305  3845.091553  6337.040039   414.200989\n",
            "  6719.38916   2763.23999    536.515015  7979.069824   417.889008\n",
            "  4345.100098  1808.439941   459.121002   670.41803   3642.751953\n",
            "  6739.649902  8811.936523  5017.831055   614.63501    609.254028\n",
            "  6738.716797  2230.120117   650.598999   705.794006  1170.410034\n",
            "  6467.253906  9389.820313   376.514008  2871.300049  6484.649902\n",
            "   574.070984   919.810974  4032.691895  7371.310059  7352.720215\n",
            "  3414.929443  5245.416504  8573.980469 10077.400391  6223.379883\n",
            " 11372.200195  4189.310059  1223.22998   7263.         913.244019\n",
            "  4000.256836  8140.933105  9324.787109 10916.34668    447.941986\n",
            "  8159.27002   3243.997559  6495.290039  1026.119995  5279.471191\n",
            "  9906.790039  3671.369873  8181.200195  8705.708008 10818.15625\n",
            "  6340.910156  3931.048584  8661.760742  6799.290039 11385.052734\n",
            "  1189.359985   407.656006  9316.016602   998.88501   4971.307617\n",
            "  8246.037109   637.007996  9350.589844   657.161011  3420.399902\n",
            "  5898.129883  8225.115234  1723.119995]\n"
          ],
          "name": "stdout"
        }
      ]
    },
    {
      "cell_type": "code",
      "metadata": {
        "id": "Dv3E9qwA0y2F",
        "colab_type": "code",
        "colab": {
          "base_uri": "https://localhost:8080/",
          "height": 692
        },
        "outputId": "30bc10b8-9e90-4b6a-d190-f40e68e04270"
      },
      "source": [
        "#print the model prediction for the next 'n=30' days\n",
        "svm_prediction = svr_rbf.predict(prediction_days_array)\n",
        "print(svm_prediction)\n",
        "\n",
        "print()\n",
        "\n",
        "#print actual price of BTC for the last 30 days\n",
        "print(BTC.tail(prediction_days))"
      ],
      "execution_count": 37,
      "outputs": [
        {
          "output_type": "stream",
          "text": [
            "[8159.01924104 8172.95691832 6765.96630814 8849.77575308 8851.75469696\n",
            " 8558.19962661 8777.60999349 8365.00221294 8363.24186694 8848.16734762\n",
            " 7511.22217579 7028.54300098 7018.10460555 7384.3795687  8273.93812283\n",
            " 8350.60313596 8804.64628072 8946.59110274 8565.25296398 8050.19687091\n",
            " 8455.25050854 8380.49797559 7938.16974549 7541.69576217 8609.7958904\n",
            " 8263.89420184 8114.80075958 8897.2412403  8865.14703376 8755.6744722 ]\n",
            "\n",
            "             Open  Prediction\n",
            "1565  6843.281738         NaN\n",
            "1566  6845.561523         NaN\n",
            "1567  6640.454102         NaN\n",
            "1568  7116.552734         NaN\n",
            "1569  7092.291504         NaN\n",
            "1570  7260.922363         NaN\n",
            "1571  7186.873535         NaN\n",
            "1572  6879.784180         NaN\n",
            "1573  6879.440430         NaN\n",
            "1574  7121.306152         NaN\n",
            "1575  7434.181641         NaN\n",
            "1576  7550.482910         NaN\n",
            "1577  7570.139160         NaN\n",
            "1578  7679.418945         NaN\n",
            "1579  7796.970215         NaN\n",
            "1580  7806.712402         NaN\n",
            "1581  8797.669922         NaN\n",
            "1582  8672.782227         NaN\n",
            "1583  8869.057617         NaN\n",
            "1584  8983.614258         NaN\n",
            "1585  8895.745117         NaN\n",
            "1586  8912.832031         NaN\n",
            "1587  9007.441406         NaN\n",
            "1588  9261.895508         NaN\n",
            "1589  9936.162109         NaN\n",
            "1590  9840.906250         NaN\n",
            "1591  9591.168945         NaN\n",
            "1592  8755.535156         NaN\n",
            "1593  8610.385742         NaN\n",
            "1594  8814.831055         NaN\n"
          ],
          "name": "stdout"
        }
      ]
    }
  ]
}